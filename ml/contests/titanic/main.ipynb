{
  "cells": [
    {
      "metadata": {
        "_uuid": "8f2839f25d086af736a60e9eeb907d3b93b6e0e5",
        "_cell_guid": "b1076dfc-b9ad-4769-8c92-a6c4dae69d19",
        "trusted": true
      },
      "cell_type": "code",
      "source": "import numpy as np\nimport pandas as pd\nimport matplotlib.pyplot as plt\nimport seaborn as sns\nfrom sklearn.model_selection import train_test_split\nfrom sklearn.linear_model import LogisticRegression\nfrom sklearn.tree import DecisionTreeClassifier\nfrom sklearn.ensemble import RandomForestClassifier, VotingClassifier\nfrom sklearn.model_selection import GridSearchCV\nfrom sklearn.metrics import accuracy_score, precision_score\nfrom sklearn.metrics import mean_squared_error, r2_score, recall_score\nfrom sklearn.neighbors import KNeighborsClassifier\nfrom sklearn.svm import SVC\nfrom sklearn.preprocessing import StandardScaler\nfrom sklearn.linear_model import Perceptron\n\nimport warnings\nwarnings.filterwarnings('ignore')",
      "execution_count": null,
      "outputs": []
    },
    {
      "metadata": {
        "_cell_guid": "79c7e3d0-c299-4dcb-8224-4455121ee9b0",
        "_uuid": "d629ff2d2480ee46fbb7e2d37f6b5fab8052498a",
        "trusted": true
      },
      "cell_type": "code",
      "source": "train_raw = pd.read_csv('../input/train.csv')\ntest_raw = pd.read_csv('../input/test.csv')",
      "execution_count": null,
      "outputs": []
    },
    {
      "metadata": {
        "trusted": true,
        "_uuid": "530c6970baf9ec984ed60437f92a853d075307c0"
      },
      "cell_type": "code",
      "source": "train_raw.head(5)",
      "execution_count": null,
      "outputs": []
    },
    {
      "metadata": {
        "trusted": true,
        "_uuid": "8e993520c3c1190fb34b923bd753ba0275765e6a"
      },
      "cell_type": "code",
      "source": "train_raw.info()",
      "execution_count": null,
      "outputs": []
    },
    {
      "metadata": {
        "trusted": true,
        "_uuid": "3bd4fb81983e414b936cb15e4c2720d47325088f"
      },
      "cell_type": "code",
      "source": "train = train_raw\ntest = test_raw\n\nmale_mean_age = train[train['Sex'] == 'male']['Age'].mean()\nfemale_mean_age = train[train['Sex'] == 'female']['Age'].mean()\n\ntrain['Age'].loc[(train['Sex'] == 'male') & train['Age'].isna()] = male_mean_age\ntrain['Age'].loc[(train['Sex'] == 'female') & train['Age'].isna()] = female_mean_age\n\ntest['Age'].loc[(test['Sex'] == 'male') & test['Age'].isna()] = male_mean_age\ntest['Age'].loc[(test['Sex'] == 'female') & test['Age'].isna()] = female_mean_age\n\ntrain['Sex'] = pd.factorize(train['Sex'])[0]\ntest['Sex'] = pd.factorize(test['Sex'])[0]",
      "execution_count": null,
      "outputs": []
    },
    {
      "metadata": {
        "trusted": true,
        "_uuid": "ffeb4367d8536150a4de201cea483027224809b3"
      },
      "cell_type": "code",
      "source": "train = train.drop('Cabin', axis=1)\ntrain = train.drop('Ticket', axis=1)\ntrain = train.drop('PassengerId', axis=1)",
      "execution_count": null,
      "outputs": []
    },
    {
      "metadata": {
        "trusted": true,
        "_uuid": "5e5fd80852abb5c60ab7a48b43ebd480095db210"
      },
      "cell_type": "code",
      "source": "train['Embarked'] = train['Embarked'].fillna(train['Embarked'].mode()[0])\ntest['Embarked'] = test['Embarked'].fillna(train['Embarked'].mode()[0])\n\ntrain['Fare'] = train['Fare'].fillna(train['Fare'].mode()[0])\ntest['Fare'] = test['Fare'].fillna(train['Fare'].mode()[0])\n\ntrain['Embarked'] = pd.factorize(train['Embarked'])[0]\ntest['Embarked'] = pd.factorize(test['Embarked'])[0]",
      "execution_count": null,
      "outputs": []
    },
    {
      "metadata": {
        "trusted": true,
        "_uuid": "6cd2817f88251d24cab125551cb65a86e69ac1e0"
      },
      "cell_type": "code",
      "source": "train['Age'] = train['Age'].astype(int)\ntest['Age'] = test['Age'].astype(int)",
      "execution_count": null,
      "outputs": []
    },
    {
      "metadata": {
        "trusted": true,
        "_uuid": "b72e8930c3c7ca978513581c3bfcfab15cb05e3c"
      },
      "cell_type": "code",
      "source": "# === После ряда обучений ====\n# Пришла пора заняться feature engineering-ом\n# изучив поле Name, можно увидеть, что все пассажиры имеют приставку Mr, Miss, ...\n# Логично предположить, что джентельмены уступали места дамам в спасательных шлюпках\n# Проверим это\n\ntrain['Title'] = train['Name'].str.extract(' ([A-Za-z]+)\\.', expand=False)\ntest['Title'] = test['Name'].str.extract(' ([A-Za-z]+)\\.', expand=False)\n\npd.crosstab(train['Title'], train['Sex'])",
      "execution_count": null,
      "outputs": []
    },
    {
      "metadata": {
        "trusted": true,
        "_uuid": "c1eb302c8e6a39135924abecc4eb363f76ed890f"
      },
      "cell_type": "code",
      "source": "# Уменьшим вариативность поля Title\n\nv_dict = train['Title'].value_counts()\n\nfor key in v_dict.keys():\n    if (v_dict[key] < 10):\n        train['Title'] = train['Title'].replace(key, 'Smth')\n        test['Title'] = test['Title'].replace(key, 'Smth')\n\ntrain['Title'] = train['Title'].replace('Mlle', 'Miss')\ntrain['Title'] = train['Title'].replace('Ms', 'Miss')\ntrain['Title'] = train['Title'].replace('Mme', 'Mrs')\n\npd.crosstab(train['Title'], train['Sex'])",
      "execution_count": null,
      "outputs": []
    },
    {
      "metadata": {
        "trusted": true,
        "_uuid": "d2734d65a0bd71d996c7f32107a9360b8a288734"
      },
      "cell_type": "code",
      "source": "train[['Title', 'Survived']].groupby(['Title'], as_index=False).mean()",
      "execution_count": null,
      "outputs": []
    },
    {
      "metadata": {
        "trusted": true,
        "_uuid": "b2273cc7ed8cfd4f9827ef30ea8d42d6c49b42dc"
      },
      "cell_type": "code",
      "source": "train['Title'] = pd.factorize(train['Title'])[0]\ntest['Title'] = pd.factorize(test['Title'])[0]\n\ntrain = train.drop('Name', axis=1)",
      "execution_count": null,
      "outputs": []
    },
    {
      "metadata": {
        "trusted": true,
        "_uuid": "00922e7d61a15d043178bbb6bc41f737a986c847"
      },
      "cell_type": "code",
      "source": "train.info()",
      "execution_count": null,
      "outputs": []
    },
    {
      "metadata": {
        "trusted": true,
        "_uuid": "07d9be4ee42354e896308b24bc5064a029420197"
      },
      "cell_type": "code",
      "source": "corr_matrix = train.corr()\nsns.heatmap(corr_matrix, annot=True, fmt=\".1f\", linewidths=.5);",
      "execution_count": null,
      "outputs": []
    },
    {
      "metadata": {
        "trusted": true,
        "_uuid": "a7aa00a1adf6dc37cffd21db414fc5ddd71f3617"
      },
      "cell_type": "code",
      "source": "cols = ['Pclass', 'Sex', 'Fare', 'Title']\n# cols = train.columns[train.columns != 'Survived']\ncols",
      "execution_count": null,
      "outputs": []
    },
    {
      "metadata": {
        "trusted": true,
        "_uuid": "96e66bfedce2cbd3e1ec06ab527c842b50730115"
      },
      "cell_type": "code",
      "source": "x_train, x_valid, y_train, y_valid = train_test_split(\n    train[cols],\n    train['Survived'],\n    test_size=0.01, # 0.2\n    random_state=42\n)",
      "execution_count": null,
      "outputs": []
    },
    {
      "metadata": {
        "trusted": true,
        "_uuid": "2b3fa7c06153d4a631c033c2156342e8d7f5b8d6"
      },
      "cell_type": "code",
      "source": "# scaling данных не дал никаких результатов\nscaler = StandardScaler()\n\nx_train = scaler.fit_transform(x_train)\nx_valid = scaler.transform(x_valid)",
      "execution_count": null,
      "outputs": []
    },
    {
      "metadata": {
        "trusted": true,
        "_uuid": "e3a5e1069484a32b6046ac458352b09ff2129cd8"
      },
      "cell_type": "code",
      "source": "def evaluate_model(model_name, model):\n    model.fit(x_train, y_train)\n    y_predicted = model.predict(x_valid)\n\n    acc = accuracy_score(y_valid, y_predicted)\n    prec = precision_score(y_valid, y_predicted)\n    rec = recall_score(y_valid, y_predicted)\n\n    print(model_name, ': {acc:', round(acc, 2), 'prec: ', round(prec, 2), 'rec: ', round(rec, 2), '}')",
      "execution_count": null,
      "outputs": []
    },
    {
      "metadata": {
        "trusted": true,
        "_uuid": "5bc1e2d9988a3f5bd4d010d9b621eec858450f14"
      },
      "cell_type": "code",
      "source": "models = {\n    'LogisticRegression': LogisticRegression(),\n    'DecisionTreeClassifier': DecisionTreeClassifier(random_state=0, max_depth=5),\n    'RandomForestClassifier': RandomForestClassifier(random_state=0, n_estimators=100, max_depth=4),\n    'KNeighborsClassifier': KNeighborsClassifier(n_neighbors=5),\n    'SVC': SVC(kernel='linear', gamma='scale'),\n    'Perceptron': Perceptron(tol=1e-3, random_state=0),\n}\n\nfor model_name in models:\n    evaluate_model(model_name, models[model_name])",
      "execution_count": null,
      "outputs": []
    },
    {
      "metadata": {
        "trusted": true,
        "_uuid": "a852afa8752cc9599f237d7f68c81c982078ec3e"
      },
      "cell_type": "code",
      "source": "vc = VotingClassifier(estimators = [\n    ('DecisionTreeClassifier', DecisionTreeClassifier(random_state=0, max_depth=5)),\n    ('RandomForestClassifier', RandomForestClassifier(random_state=0, n_estimators=100, max_depth=4)),\n    ('KNeighborsClassifier', KNeighborsClassifier(n_neighbors=5))],\n    voting='soft'\n)\n\nevaluate_model('VotingClassifier', vc)",
      "execution_count": null,
      "outputs": []
    },
    {
      "metadata": {
        "trusted": true,
        "_uuid": "5aef81c54464010753e8d661537b950eab50cc2f"
      },
      "cell_type": "code",
      "source": "test_scaled = scaler.transform(test[cols])\nresult = vc.predict(test_scaled)\n\nresult_dt = pd.DataFrame({\n    'PassengerId': test_raw['PassengerId'],\n    'Survived': result\n})\nresult_dt.to_csv('submission.csv', index=False)",
      "execution_count": null,
      "outputs": []
    }
  ],
  "metadata": {
    "kernelspec": {
      "display_name": "Python 3",
      "language": "python",
      "name": "python3"
    },
    "language_info": {
      "name": "python",
      "version": "3.6.6",
      "mimetype": "text/x-python",
      "codemirror_mode": {
        "name": "ipython",
        "version": 3
      },
      "pygments_lexer": "ipython3",
      "nbconvert_exporter": "python",
      "file_extension": ".py"
    }
  },
  "nbformat": 4,
  "nbformat_minor": 1
}