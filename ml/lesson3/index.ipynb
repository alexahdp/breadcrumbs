{
 "cells": [
  {
   "cell_type": "code",
   "execution_count": 136,
   "metadata": {},
   "outputs": [],
   "source": [
    "from sklearn import datasets, linear_model\n",
    "from sklearn.metrics import mean_squared_error, r2_score, roc_auc_score\n",
    "from sklearn.model_selection import train_test_split\n",
    "from sklearn.ensemble import RandomForestRegressor\n",
    "import numpy as np\n",
    "import pandas as pd\n",
    "\n",
    "# part_1\n",
    "\n",
    "# Boston House Prices dataset\n",
    "ds = datasets.load_boston()\n",
    "\n",
    "# dir(ds) # ['DESCR', 'data', 'feature_names', 'filename', 'target']\n",
    "# ds.feature_names # ['CRIM', 'ZN', 'INDUS', 'CHAS', 'NOX', 'RM', 'AGE', 'DIS', 'RAD', 'TAX', 'PTRATIO', 'B', 'LSTAT']\n",
    "\n",
    "X = ds.data\n",
    "y = ds.target\n",
    "\n",
    "X_train, X_test, Y_train, Y_test = train_test_split(X, y, test_size=0.25, random_state=42)\n",
    "\n",
    "lr = linear_model.LinearRegression()\n",
    "\n",
    "reg = lr.fit(X_train, Y_train)\n",
    "# [reg.coef_, reg.intercept_]\n",
    "# score = reg.score(X_test, Y_test)\n",
    "\n",
    "Y_predict = reg.predict(X_test)\n",
    "\n",
    "sqerr = mean_squared_error(Y_test, Y_predict)\n",
    "# sqerr = 22.0986\n",
    "\n",
    "R2 = r2_score(Y_test, Y_predict)\n",
    "# R2 = 0.6844\n",
    "\n",
    "# part_2\n",
    "\n",
    "regr = RandomForestRegressor(max_depth=12, random_state=42, n_estimators=1000)\n",
    "\n",
    "reg2 = regr.fit(X_train, Y_train)\n",
    "Y2_predict = reg2.predict(X_test)\n",
    "\n",
    "R2 = r2_score(Y_test, Y2_predict)\n",
    "# R2 = 0.8563\n",
    "\n",
    "\n"
   ]
  },
  {
   "cell_type": "code",
   "execution_count": 140,
   "metadata": {},
   "outputs": [
    {
     "name": "stdout",
     "output_type": "stream",
     "text": [
      "importance_flags_sum: 1.0 , 5 : 0.43816835027488954 , 12 : 0.38186311951819085\n"
     ]
    }
   ],
   "source": [
    "importance_flags = reg2.feature_importances_\n",
    "\n",
    "importance_flags_sum = sum(importance_flags)\n",
    "\n",
    "n1 = np.argmax(importance_flags)\n",
    "v1 = importance_flags[n1]\n",
    "importance_flags[n1] = 0\n",
    "n2 = np.argmax(importance_flags)\n",
    "v2 = importance_flags[n2]\n",
    "\n",
    "print(\"importance_flags_sum:\", importance_flags_sum, \",\", n1, \":\", v1, \",\", n2, \":\", v2)\n",
    "\n",
    "# reg2.feature_importances_??\n",
    "# %lsmagic"
   ]
  },
  {
   "cell_type": "code",
   "execution_count": 141,
   "metadata": {},
   "outputs": [],
   "source": [
    "df = pd.read_csv(\"./data/creditcard.csv\")"
   ]
  },
  {
   "cell_type": "code",
   "execution_count": 142,
   "metadata": {},
   "outputs": [
    {
     "data": {
      "text/plain": [
       "0    0.998273\n",
       "1    0.001727\n",
       "Name: Class, dtype: float64"
      ]
     },
     "execution_count": 142,
     "metadata": {},
     "output_type": "execute_result"
    },
    {
     "data": {
      "text/plain": [
       "GridSearchCV(cv=3, error_score='raise-deprecating',\n",
       "       estimator=RandomForestClassifier(bootstrap=True, class_weight=None, criterion='gini',\n",
       "            max_depth=None, max_features='auto', max_leaf_nodes=None,\n",
       "            min_impurity_decrease=0.0, min_impurity_split=None,\n",
       "            min_samples_leaf=1, min_samples_split=2,\n",
       "            min_weight_fraction_leaf=0.0, n_estimators='warn', n_jobs=None,\n",
       "            oob_score=False, random_state=100, verbose=0, warm_start=False),\n",
       "       fit_params=None, iid='warn', n_jobs=None,\n",
       "       param_grid=[{'n_estimators': [10, 15], 'max_features': array([3, 4]), 'max_depth': array([4, 5, 6])}],\n",
       "       pre_dispatch='2*n_jobs', refit=True, return_train_score='warn',\n",
       "       scoring='roc_auc', verbose=0)"
      ]
     },
     "execution_count": 142,
     "metadata": {},
     "output_type": "execute_result"
    },
    {
     "data": {
      "text/plain": [
       "{'max_depth': 6, 'max_features': 3, 'n_estimators': 15}"
      ]
     },
     "execution_count": 142,
     "metadata": {},
     "output_type": "execute_result"
    }
   ],
   "source": [
    "from sklearn.ensemble import RandomForestClassifier\n",
    "from sklearn.model_selection import GridSearchCV\n",
    "\n",
    "pd.options.display.max_columns = 100\n",
    "\n",
    "df['Class'].value_counts(normalize=True)\n",
    "# 0    0.998273\n",
    "# 1    0.001727\n",
    "\n",
    "\n",
    "X = df[df.columns[df.columns != 'Class']]\n",
    "Y = df[\"Class\"]\n",
    "\n",
    "X_train, X_test, Y_train, Y_test = train_test_split(X, Y, test_size=0.3, random_state=100, stratify=Y)\n",
    "\n",
    "parameters = [{\n",
    "    'n_estimators': [10, 15], \n",
    "    'max_features': np.arange(3, 5),\n",
    "    'max_depth': np.arange(4, 7)\n",
    "}]\n",
    "\n",
    "clf = GridSearchCV(\n",
    "    estimator=RandomForestClassifier(random_state=100), \n",
    "    param_grid=parameters,\n",
    "    scoring='roc_auc',\n",
    "    cv=3\n",
    ")\n",
    "\n",
    "clf.fit(X_train, Y_train)\n",
    "\n",
    "clf.best_params_\n",
    "# GridSearchCV(cv=3, error_score='raise-deprecating',\n",
    "#        estimator=RandomForestClassifier(bootstrap=True, class_weight=None, criterion='gini',\n",
    "#             max_depth=None, max_features='auto', max_leaf_nodes=None,\n",
    "#             min_impurity_decrease=0.0, min_impurity_split=None,\n",
    "#             min_samples_leaf=1, min_samples_split=2,\n",
    "#             min_weight_fraction_leaf=0.0, n_estimators='warn', n_jobs=None,\n",
    "#             oob_score=False, random_state=100, verbose=0, warm_start=False),\n",
    "#        fit_params=None, iid='warn', n_jobs=None,\n",
    "#        param_grid=[{'n_estimators': [10, 15], 'max_features': array([3, 4]), 'max_depth': array([4, 5, 6])}],\n",
    "#        pre_dispatch='2*n_jobs', refit=True, return_train_score='warn',\n",
    "#        scoring='roc_auc', verbose=0)\n",
    "# {'max_depth': 6, 'max_features': 3, 'n_estimators': 15}"
   ]
  },
  {
   "cell_type": "code",
   "execution_count": 148,
   "metadata": {},
   "outputs": [],
   "source": [
    "Y_predict = clf.predict_proba(X_test)\n",
    "y_pred_proba = Y_predict[:, 1]\n",
    "\n",
    "AUC = roc_auc_score(Y_test, y_pred_proba)\n",
    "# AUC = 0.9462"
   ]
  },
  {
   "cell_type": "code",
   "execution_count": 155,
   "metadata": {},
   "outputs": [
    {
     "data": {
      "text/plain": [
       "<Figure size 720x576 with 0 Axes>"
      ]
     },
     "execution_count": 155,
     "metadata": {},
     "output_type": "execute_result"
    },
    {
     "data": {
      "text/plain": [
       "[<matplotlib.lines.Line2D at 0x7fe70f8c7160>]"
      ]
     },
     "execution_count": 155,
     "metadata": {},
     "output_type": "execute_result"
    },
    {
     "data": {
      "text/plain": [
       "[<matplotlib.lines.Line2D at 0x7fe70f866be0>]"
      ]
     },
     "execution_count": 155,
     "metadata": {},
     "output_type": "execute_result"
    },
    {
     "data": {
      "text/plain": [
       "(0.0, 1.0)"
      ]
     },
     "execution_count": 155,
     "metadata": {},
     "output_type": "execute_result"
    },
    {
     "data": {
      "text/plain": [
       "(0.0, 1.05)"
      ]
     },
     "execution_count": 155,
     "metadata": {},
     "output_type": "execute_result"
    },
    {
     "data": {
      "text/plain": [
       "Text(0.5, 0, 'False Positive Rate')"
      ]
     },
     "execution_count": 155,
     "metadata": {},
     "output_type": "execute_result"
    },
    {
     "data": {
      "text/plain": [
       "Text(0, 0.5, 'True Positive Rate')"
      ]
     },
     "execution_count": 155,
     "metadata": {},
     "output_type": "execute_result"
    },
    {
     "data": {
      "text/plain": [
       "Text(0.5, 1.0, 'ROC curve')"
      ]
     },
     "execution_count": 155,
     "metadata": {},
     "output_type": "execute_result"
    },
    {
     "data": {
      "image/png": "[encoded data removed]",
      "text/plain": [
       "<Figure size 720x576 with 1 Axes>"
      ]
     },
     "metadata": {},
     "output_type": "display_data"
    }
   ],
   "source": [
    "from sklearn.metrics import roc_curve\n",
    "from matplotlib import pyplot as plt\n",
    "import seaborn as sns\n",
    "\n",
    "fpr, tpr, thresholds = roc_curve(Y_test, y_pred_proba, pos_label=1)\n",
    "\n",
    "sns.set(font_scale=1.5)\n",
    "sns.set_color_codes(\"muted\")\n",
    "\n",
    "plt.figure(figsize=(10, 8))\n",
    "lw = 2\n",
    "plt.plot(fpr, tpr, lw=lw, label='ROC curve ')\n",
    "plt.plot([0, 1], [0, 1])\n",
    "plt.xlim([0.0, 1.0])\n",
    "plt.ylim([0.0, 1.05])\n",
    "plt.xlabel('False Positive Rate')\n",
    "plt.ylabel('True Positive Rate')\n",
    "plt.title('ROC curve')\n",
    "plt.savefig(\"ROC.png\")\n",
    "plt.show()"
   ]
  }
 ],
 "metadata": {
  "kernelspec": {
   "display_name": "Python 3",
   "language": "python",
   "name": "python3"
  },
  "language_info": {
   "codemirror_mode": {
    "name": "ipython",
    "version": 3
   },
   "file_extension": ".py",
   "mimetype": "text/x-python",
   "name": "python",
   "nbconvert_exporter": "python",
   "pygments_lexer": "ipython3",
   "version": "3.7.1"
  }
 },
 "nbformat": 4,
 "nbformat_minor": 2
}
